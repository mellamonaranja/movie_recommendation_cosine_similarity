{
 "cells": [
  {
   "cell_type": "code",
   "execution_count": 1,
   "metadata": {},
   "outputs": [],
   "source": [
    "from sklearn.metrics.pairwise import cosine_similarity\n",
    "import pandas as pd\n",
    "from sklearn.feature_extraction.text import TfidfVectorizer"
   ]
  },
  {
   "cell_type": "code",
   "execution_count": 2,
   "metadata": {},
   "outputs": [],
   "source": [
    "data=pd.read_csv('/Users/joohyunyoon/Downloads/movies_metadata.csv',low_memory=False)\n",
    "data=data[:200]"
   ]
  },
  {
   "cell_type": "code",
   "execution_count": 3,
   "metadata": {},
   "outputs": [],
   "source": [
    "# Will recommend similar movie after seek to its overview \n",
    "data['overview']=data['overview'].fillna('')"
   ]
  },
  {
   "cell_type": "code",
   "execution_count": 4,
   "metadata": {},
   "outputs": [
    {
     "name": "stdout",
     "output_type": "stream",
     "text": [
      "(200, 3193)\n"
     ]
    }
   ],
   "source": [
    "tfidf=TfidfVectorizer(stop_words='english')\n",
    "\n",
    "# Frequency of each words\n",
    "tfidf_matrix=tfidf.fit_transform(data['overview'])\n",
    "\n",
    "# overviews * its word used in the overviews\n",
    "print(tfidf_matrix.shape)"
   ]
  },
  {
   "cell_type": "code",
   "execution_count": 5,
   "metadata": {},
   "outputs": [
    {
     "name": "stdout",
     "output_type": "stream",
     "text": [
      "(200, 200)\n",
      "[[1.         0.01636502 0.         ... 0.         0.         0.        ]\n",
      " [0.01636502 1.         0.05407969 ... 0.         0.         0.        ]\n",
      " [0.         0.05407969 1.         ... 0.03894111 0.01058671 0.        ]\n",
      " ...\n",
      " [0.         0.         0.03894111 ... 1.         0.         0.0243535 ]\n",
      " [0.         0.         0.01058671 ... 0.         1.         0.01253776]\n",
      " [0.         0.         0.         ... 0.0243535  0.01253776 1.        ]]\n"
     ]
    }
   ],
   "source": [
    "# Cosine similarity\n",
    "cosine_sim=cosine_similarity(tfidf_matrix, tfidf_matrix)\n",
    "\n",
    "# result of Cosine similarity\n",
    "print(cosine_sim.shape) \n",
    "\n",
    "# 2D array of Cosine similarity\n",
    "print(cosine_sim)"
   ]
  },
  {
   "cell_type": "code",
   "execution_count": 6,
   "metadata": {},
   "outputs": [
    {
     "data": {
      "text/plain": [
       "{'Toy Story': 0,\n",
       " 'Jumanji': 1,\n",
       " 'Grumpier Old Men': 2,\n",
       " 'Waiting to Exhale': 3,\n",
       " 'Father of the Bride Part II': 4,\n",
       " 'Heat': 5,\n",
       " 'Sabrina': 6,\n",
       " 'Tom and Huck': 7,\n",
       " 'Sudden Death': 8,\n",
       " 'GoldenEye': 9,\n",
       " 'The American President': 10,\n",
       " 'Dracula: Dead and Loving It': 11,\n",
       " 'Balto': 12,\n",
       " 'Nixon': 13,\n",
       " 'Cutthroat Island': 14,\n",
       " 'Casino': 15,\n",
       " 'Sense and Sensibility': 16,\n",
       " 'Four Rooms': 17,\n",
       " 'Ace Ventura: When Nature Calls': 18,\n",
       " 'Money Train': 19,\n",
       " 'Get Shorty': 20,\n",
       " 'Copycat': 21,\n",
       " 'Assassins': 22,\n",
       " 'Powder': 23,\n",
       " 'Leaving Las Vegas': 24,\n",
       " 'Othello': 25,\n",
       " 'Now and Then': 26,\n",
       " 'Persuasion': 27,\n",
       " 'The City of Lost Children': 28,\n",
       " 'Shanghai Triad': 29,\n",
       " 'Dangerous Minds': 30,\n",
       " 'Twelve Monkeys': 31,\n",
       " 'Wings of Courage': 32,\n",
       " 'Babe': 33,\n",
       " 'Carrington': 34,\n",
       " 'Dead Man Walking': 35,\n",
       " 'Across the Sea of Time': 36,\n",
       " 'It Takes Two': 37,\n",
       " 'Clueless': 38,\n",
       " 'Cry, the Beloved Country': 39,\n",
       " 'Richard III': 40,\n",
       " 'Dead Presidents': 41,\n",
       " 'Restoration': 42,\n",
       " 'Mortal Kombat': 43,\n",
       " 'To Die For': 44,\n",
       " 'How To Make An American Quilt': 45,\n",
       " 'Se7en': 46,\n",
       " 'Pocahontas': 47,\n",
       " 'When Night Is Falling': 48,\n",
       " 'The Usual Suspects': 49,\n",
       " 'Guardian Angel': 50,\n",
       " 'Mighty Aphrodite': 51,\n",
       " 'Lamerica': 52,\n",
       " 'The Big Green': 53,\n",
       " 'Georgia': 54,\n",
       " 'Kids of the Round Table': 55,\n",
       " 'Home for the Holidays': 56,\n",
       " 'The Postman': 57,\n",
       " 'The Confessional': 58,\n",
       " 'The Indian in the Cupboard': 59,\n",
       " 'Eye for an Eye': 60,\n",
       " \"Mr. Holland's Opus\": 61,\n",
       " \"Don't Be a Menace to South Central While Drinking Your Juice in the Hood\": 62,\n",
       " 'Two If by Sea': 63,\n",
       " 'Bio-Dome': 64,\n",
       " 'Lawnmower Man 2: Beyond Cyberspace': 65,\n",
       " 'Two Bits': 66,\n",
       " 'French Twist': 67,\n",
       " 'Friday': 68,\n",
       " 'From Dusk Till Dawn': 69,\n",
       " 'Fair Game': 70,\n",
       " 'Kicking and Screaming': 71,\n",
       " 'Les Miserables': 72,\n",
       " 'Bed of Roses': 73,\n",
       " 'Big Bully': 74,\n",
       " 'Screamers': 75,\n",
       " 'Nico Icon': 76,\n",
       " 'The Crossing Guard': 77,\n",
       " 'The Juror': 78,\n",
       " 'The White Balloon': 79,\n",
       " \"Things to Do in Denver When You're Dead\": 80,\n",
       " \"Antonia's Line\": 81,\n",
       " 'Once Upon a Time... When We Were Colored': 82,\n",
       " 'Last Summer in the Hamptons': 83,\n",
       " 'Angels and Insects': 84,\n",
       " 'White Squall': 85,\n",
       " 'Dunston Checks In': 86,\n",
       " 'Black Sheep': 87,\n",
       " 'Nick of Time': 88,\n",
       " 'The Journey of August King': 89,\n",
       " 'Mary Reilly': 90,\n",
       " 'Vampire in Brooklyn': 91,\n",
       " 'Beautiful Girls': 92,\n",
       " 'Broken Arrow': 93,\n",
       " \"A Midwinter's Tale\": 94,\n",
       " 'La Haine': 95,\n",
       " 'Shopping': 96,\n",
       " 'Heidi Fleiss: Hollywood Madam': 97,\n",
       " 'City Hall': 98,\n",
       " 'Bottle Rocket': 99,\n",
       " 'Mr. Wrong': 100,\n",
       " 'Unforgettable': 101,\n",
       " 'Happy Gilmore': 102,\n",
       " 'The Bridges of Madison County': 103,\n",
       " 'Nobody Loves Me': 104,\n",
       " 'Muppet Treasure Island': 105,\n",
       " 'Catwalk': 106,\n",
       " 'Headless Body in Topless Bar': 107,\n",
       " 'Braveheart': 108,\n",
       " 'Taxi Driver': 109,\n",
       " 'Rumble in the Bronx': 110,\n",
       " 'Before and After': 111,\n",
       " \"Margaret's Museum\": 112,\n",
       " 'Happiness Is in the Field': 113,\n",
       " 'Anne Frank Remembered': 114,\n",
       " \"The Young Poisoner's Handbook\": 115,\n",
       " 'If Lucy Fell': 116,\n",
       " 'Steal Big Steal Little': 117,\n",
       " 'Race the Sun': 118,\n",
       " 'The Boys of St. Vincent': 119,\n",
       " 'Boomerang': 120,\n",
       " 'Chungking Express': 121,\n",
       " 'The Star Maker': 122,\n",
       " 'Flirting with Disaster': 123,\n",
       " 'The Neverending Story III: Escape from Fantasia': 124,\n",
       " 'The Silences of the Palace': 125,\n",
       " \"Jupiter's Wife\": 126,\n",
       " 'Pie in the Sky': 127,\n",
       " 'Angela': 128,\n",
       " 'Frankie Starlight': 129,\n",
       " 'Jade': 130,\n",
       " 'Nueba Yol': 131,\n",
       " 'Sonic Outlaws': 132,\n",
       " 'Down Periscope': 133,\n",
       " 'From the Journals of Jean Seberg': 134,\n",
       " 'Man of the Year': 135,\n",
       " 'The Neon Bible': 136,\n",
       " 'Target': 137,\n",
       " 'Up Close & Personal': 138,\n",
       " 'The Birdcage': 139,\n",
       " 'Virgin Mary': 140,\n",
       " 'The Brothers McMullen': 141,\n",
       " 'Bad Boys': 142,\n",
       " 'The Amazing Panda Adventure': 143,\n",
       " 'The Basketball Diaries': 144,\n",
       " 'An Awfully Big Adventure': 145,\n",
       " 'Amateur': 146,\n",
       " 'Apollo 13': 147,\n",
       " 'Rob Roy': 148,\n",
       " 'The Addiction': 149,\n",
       " 'Batman Forever': 150,\n",
       " 'Belle de Jour': 151,\n",
       " 'Beyond Rangoon': 152,\n",
       " 'Blue in the Face': 153,\n",
       " 'Canadian Bacon': 154,\n",
       " 'Casper': 155,\n",
       " 'Clockers': 156,\n",
       " 'Congo': 157,\n",
       " 'Crimson Tide': 158,\n",
       " 'Crumb': 159,\n",
       " 'Desperado': 160,\n",
       " 'Devil in a Blue Dress': 161,\n",
       " 'Die Hard: With a Vengeance': 162,\n",
       " 'The Doom Generation': 163,\n",
       " 'Feast of July': 164,\n",
       " 'First Knight': 165,\n",
       " 'Free Willy 2 - The Adventure Home': 166,\n",
       " 'Hackers': 167,\n",
       " 'Jeffrey': 168,\n",
       " 'Johnny Mnemonic': 169,\n",
       " 'Judge Dredd': 170,\n",
       " 'Jury Duty': 171,\n",
       " 'Kids': 172,\n",
       " 'Living in Oblivion': 173,\n",
       " 'Lord of Illusions': 174,\n",
       " 'Love & Human Remains': 175,\n",
       " 'Mad Love': 176,\n",
       " 'Mallrats': 177,\n",
       " 'Mighty Morphin Power Rangers: The Movie': 178,\n",
       " 'Moonlight and Valentino': 179,\n",
       " 'Mute Witness': 180,\n",
       " 'Nadja': 181,\n",
       " 'The Net': 182,\n",
       " 'Nine Months': 183,\n",
       " 'Party Girl': 184,\n",
       " 'The Prophecy': 185,\n",
       " 'Reckless': 186,\n",
       " 'Safe': 187,\n",
       " 'The Scarlet Letter': 188,\n",
       " 'The Show': 189,\n",
       " 'Showgirls': 190,\n",
       " 'Smoke': 191,\n",
       " 'Something to Talk About': 192,\n",
       " 'Species': 193,\n",
       " 'The Stars Fell on Henrietta': 194,\n",
       " 'Strange Days': 195,\n",
       " 'The Umbrellas of Cherbourg': 196,\n",
       " 'The Tie That Binds': 197,\n",
       " 'Three Wishes': 198,\n",
       " 'Total Eclipse': 199}"
      ]
     },
     "execution_count": 6,
     "metadata": {},
     "output_type": "execute_result"
    }
   ],
   "source": [
    "# key=title, value=movie index\n",
    "title_to_index=dict(zip(data['title'],data.index))\n",
    "title_to_index"
   ]
  },
  {
   "cell_type": "code",
   "execution_count": 7,
   "metadata": {},
   "outputs": [
    {
     "data": {
      "text/plain": [
       "199"
      ]
     },
     "execution_count": 7,
     "metadata": {},
     "output_type": "execute_result"
    }
   ],
   "source": [
    "idx=title_to_index['Total Eclipse']\n",
    "idx"
   ]
  },
  {
   "cell_type": "code",
   "execution_count": 8,
   "metadata": {},
   "outputs": [],
   "source": [
    "def recomm(title):\n",
    "    # Get the index from the movie\n",
    "    idx=title_to_index[title]\n",
    "\n",
    "    # Get the cosine similarity of the movie\n",
    "    sim_scores=list(enumerate(cosine_sim[idx]))\n",
    "\n",
    "    # Sorting by descending\n",
    "    sim_scores=sorted(sim_scores,key=lambda x:x[1], reverse=True)\n",
    "\n",
    "    # Get 10 similar movies\n",
    "    sim_scores=sim_scores[:11]\n",
    "\n",
    "    # Get the index with 10 similar movies\n",
    "    movie_idx=[i[0] for i in sim_scores]\n",
    "\n",
    "    return data['title'].iloc[movie_idx]"
   ]
  },
  {
   "cell_type": "code",
   "execution_count": 9,
   "metadata": {},
   "outputs": [
    {
     "data": {
      "text/plain": [
       "150                             Batman Forever\n",
       "47                                  Pocahontas\n",
       "167                                    Hackers\n",
       "56                       Home for the Holidays\n",
       "178    Mighty Morphin Power Rangers: The Movie\n",
       "162                 Die Hard: With a Vengeance\n",
       "141                      The Brothers McMullen\n",
       "70                                   Fair Game\n",
       "46                                       Se7en\n",
       "15                                      Casino\n",
       "83                 Last Summer in the Hamptons\n",
       "Name: title, dtype: object"
      ]
     },
     "execution_count": 9,
     "metadata": {},
     "output_type": "execute_result"
    }
   ],
   "source": [
    "recomm('Batman Forever')"
   ]
  },
  {
   "cell_type": "code",
   "execution_count": null,
   "metadata": {},
   "outputs": [],
   "source": []
  }
 ],
 "metadata": {
  "kernelspec": {
   "display_name": "Python 3",
   "language": "python",
   "name": "python3"
  },
  "language_info": {
   "codemirror_mode": {
    "name": "ipython",
    "version": 3
   },
   "file_extension": ".py",
   "mimetype": "text/x-python",
   "name": "python",
   "nbconvert_exporter": "python",
   "pygments_lexer": "ipython3",
   "version": "3.8.8"
  },
  "orig_nbformat": 4
 },
 "nbformat": 4,
 "nbformat_minor": 2
}
